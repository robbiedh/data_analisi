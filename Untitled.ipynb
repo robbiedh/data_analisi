{
 "cells": [
  {
   "cell_type": "code",
   "execution_count": null,
   "metadata": {
    "scrolled": true
   },
   "outputs": [],
   "source": [
    "# lakukan testing dulu \n",
    "import pandas as pd \n",
    "import numpy as np \n",
    "from collections import Counter\n",
    "\n",
    "\n",
    "#  Mmebaca file  csv yang akan  \n",
    "df  = pd.read_csv('Data/listings.csv')\n",
    "#  df = df [['id ', Name , Summary , longitude , latitude , space descrp, instant_bookabel ]]\n",
    "\n",
    "# Ganti kolom  Nan Dengan  0\n",
    "df.fillna(0, inplace=True)\n",
    "\n",
    "#mengekstrak kolom  price \n",
    "price = df['price']\n",
    "prices = []\n",
    "\n",
    "# konversi string ke float\n",
    "\n",
    "for p in price :\n",
    "    p = float(p[1:].replace(',',''))\n",
    "    prices.append(p)\n",
    "    \n",
    "#ganti  kolom  price dengan yang baru \n",
    "df['price']=prices\n",
    "\n",
    "#mengabil data yang tidak kosong \n",
    "df  = df[df.bathrooms > 0]\n",
    "df = df[df.bedrooms> 0]\n",
    "df =df[df.beds >0]\n",
    "df =df[df.price >0]\n",
    "df =df[df.review_scores_rating >0]\n",
    "df =df[df.reviews_per_month >0]\n",
    "df =df[df.accommodates >0]\n",
    "df.head()"
   ]
  },
  {
   "cell_type": "code",
   "execution_count": null,
   "metadata": {},
   "outputs": [],
   "source": [
    "room_type_df=df.groupby('room_type').id.count()\n",
    "room_type_df = room_type_df.reset_index()\n",
    "room_type_df= room_type_df.rename(columns={'id': 'numberf_of_listing'})\n",
    "print(room_type_df)\n"
   ]
  }
 ],
 "metadata": {
  "kernelspec": {
   "display_name": "Python 2",
   "language": "python",
   "name": "python2"
  },
  "language_info": {
   "codemirror_mode": {
    "name": "ipython",
    "version": 2
   },
   "file_extension": ".py",
   "mimetype": "text/x-python",
   "name": "python",
   "nbconvert_exporter": "python",
   "pygments_lexer": "ipython2",
   "version": "2.7.15"
  }
 },
 "nbformat": 4,
 "nbformat_minor": 2
}
